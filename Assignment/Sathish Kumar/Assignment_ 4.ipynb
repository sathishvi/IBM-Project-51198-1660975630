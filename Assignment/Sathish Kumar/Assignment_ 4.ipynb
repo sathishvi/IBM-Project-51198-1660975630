{
  "cells": [
    {
      "cell_type": "markdown",
      "metadata": {
        "id": "OXR-jc09M5xt"
      },
      "source": [
        "**1. Download the Dataset**\n",
        "\n",
        "  The given dataset has been downloaded as spam.csv file."
      ]
    },
    {
      "cell_type": "markdown",
      "metadata": {
        "id": "IO4wi-aXNPh6"
      },
      "source": [
        "**2. Import required libraries**"
      ]
    },
    {
      "cell_type": "code",
      "execution_count": null,
      "metadata": {
        "id": "DWkZ4huwMoMV"
      },
      "outputs": [],
      "source": [
        "import numpy as np \n",
        "import pandas as pd \n",
        "import matplotlib.pyplot as plt \n",
        "import seaborn as sns \n",
        "import tensorflow as tf \n",
        "from tensorflow import keras \n",
        "from tensorflow.keras import layers "
      ]
    },
    {
      "cell_type": "markdown",
      "metadata": {
        "id": "6yrSYJY0Npzg"
      },
      "source": [
        "**3. Read dataset and do pre-processing**"
      ]
    },
    {
      "cell_type": "code",
      "execution_count": null,
      "metadata": {
        "id": "lVl5kWv9Nskp"
      },
      "outputs": [],
      "source": [
        "df = pd.read_csv(r\"D:\\IBM 7th sem project\\Assignments\\spam_ds\\spam.csv\", encoding=\"latin-1\")"
      ]
    },
    {
      "cell_type": "code",
      "execution_count": null,
      "metadata": {
        "colab": {
          "base_uri": "https://localhost:8080/",
          "height": 206
        },
        "id": "BTa422JKN3qF",
        "outputId": "ce133e97-e3da-4754-e9f5-b32493d4f527"
      },
      "outputs": [
        {
          "data": {
            "text/html": [
              "<div>\n",
              "<style scoped>\n",
              "    .dataframe tbody tr th:only-of-type {\n",
              "        vertical-align: middle;\n",
              "    }\n",
              "\n",
              "    .dataframe tbody tr th {\n",
              "        vertical-align: top;\n",
              "    }\n",
              "\n",
              "    .dataframe thead th {\n",
              "        text-align: right;\n",
              "    }\n",
              "</style>\n",
              "<table border=\"1\" class=\"dataframe\">\n",
              "  <thead>\n",
              "    <tr style=\"text-align: right;\">\n",
              "      <th></th>\n",
              "      <th>v1</th>\n",
              "      <th>v2</th>\n",
              "      <th>Unnamed: 2</th>\n",
              "      <th>Unnamed: 3</th>\n",
              "      <th>Unnamed: 4</th>\n",
              "    </tr>\n",
              "  </thead>\n",
              "  <tbody>\n",
              "    <tr>\n",
              "      <th>0</th>\n",
              "      <td>ham</td>\n",
              "      <td>Go until jurong point, crazy.. Available only ...</td>\n",
              "      <td>NaN</td>\n",
              "      <td>NaN</td>\n",
              "      <td>NaN</td>\n",
              "    </tr>\n",
              "    <tr>\n",
              "      <th>1</th>\n",
              "      <td>ham</td>\n",
              "      <td>Ok lar... Joking wif u oni...</td>\n",
              "      <td>NaN</td>\n",
              "      <td>NaN</td>\n",
              "      <td>NaN</td>\n",
              "    </tr>\n",
              "    <tr>\n",
              "      <th>2</th>\n",
              "      <td>spam</td>\n",
              "      <td>Free entry in 2 a wkly comp to win FA Cup fina...</td>\n",
              "      <td>NaN</td>\n",
              "      <td>NaN</td>\n",
              "      <td>NaN</td>\n",
              "    </tr>\n",
              "    <tr>\n",
              "      <th>3</th>\n",
              "      <td>ham</td>\n",
              "      <td>U dun say so early hor... U c already then say...</td>\n",
              "      <td>NaN</td>\n",
              "      <td>NaN</td>\n",
              "      <td>NaN</td>\n",
              "    </tr>\n",
              "    <tr>\n",
              "      <th>4</th>\n",
              "      <td>ham</td>\n",
              "      <td>Nah I don't think he goes to usf, he lives aro...</td>\n",
              "      <td>NaN</td>\n",
              "      <td>NaN</td>\n",
              "      <td>NaN</td>\n",
              "    </tr>\n",
              "  </tbody>\n",
              "</table>\n",
              "</div>"
            ],
            "text/plain": [
              "     v1                                                 v2 Unnamed: 2  \\\n",
              "0   ham  Go until jurong point, crazy.. Available only ...        NaN   \n",
              "1   ham                      Ok lar... Joking wif u oni...        NaN   \n",
              "2  spam  Free entry in 2 a wkly comp to win FA Cup fina...        NaN   \n",
              "3   ham  U dun say so early hor... U c already then say...        NaN   \n",
              "4   ham  Nah I don't think he goes to usf, he lives aro...        NaN   \n",
              "\n",
              "  Unnamed: 3 Unnamed: 4  \n",
              "0        NaN        NaN  \n",
              "1        NaN        NaN  \n",
              "2        NaN        NaN  \n",
              "3        NaN        NaN  \n",
              "4        NaN        NaN  "
            ]
          },
          "execution_count": 3,
          "metadata": {},
          "output_type": "execute_result"
        }
      ],
      "source": [
        "df.head() # an overview "
      ]
    },
    {
      "cell_type": "markdown",
      "metadata": {
        "id": "mDm9r1MvN_E5"
      },
      "source": [
        "**Since the given dataset has three Unnamed columns that we don't need, we will drop them and also our label is in string form -> spam and ham, we will map them in numerical form.**\n",
        "\n"
      ]
    },
    {
      "cell_type": "code",
      "execution_count": null,
      "metadata": {
        "colab": {
          "base_uri": "https://localhost:8080/",
          "height": 206
        },
        "id": "Cz03JwtwN54B",
        "outputId": "e6693262-be8d-4a8d-c903-5441e3b306ba",
        "scrolled": true
      },
      "outputs": [
        {
          "data": {
            "text/html": [
              "<div>\n",
              "<style scoped>\n",
              "    .dataframe tbody tr th:only-of-type {\n",
              "        vertical-align: middle;\n",
              "    }\n",
              "\n",
              "    .dataframe tbody tr th {\n",
              "        vertical-align: top;\n",
              "    }\n",
              "\n",
              "    .dataframe thead th {\n",
              "        text-align: right;\n",
              "    }\n",
              "</style>\n",
              "<table border=\"1\" class=\"dataframe\">\n",
              "  <thead>\n",
              "    <tr style=\"text-align: right;\">\n",
              "      <th></th>\n",
              "      <th>label</th>\n",
              "      <th>Text</th>\n",
              "      <th>label_in_num</th>\n",
              "    </tr>\n",
              "  </thead>\n",
              "  <tbody>\n",
              "    <tr>\n",
              "      <th>0</th>\n",
              "      <td>ham</td>\n",
              "      <td>Go until jurong point, crazy.. Available only ...</td>\n",
              "      <td>0</td>\n",
              "    </tr>\n",
              "    <tr>\n",
              "      <th>1</th>\n",
              "      <td>ham</td>\n",
              "      <td>Ok lar... Joking wif u oni...</td>\n",
              "      <td>0</td>\n",
              "    </tr>\n",
              "    <tr>\n",
              "      <th>2</th>\n",
              "      <td>spam</td>\n",
              "      <td>Free entry in 2 a wkly comp to win FA Cup fina...</td>\n",
              "      <td>1</td>\n",
              "    </tr>\n",
              "    <tr>\n",
              "      <th>3</th>\n",
              "      <td>ham</td>\n",
              "      <td>U dun say so early hor... U c already then say...</td>\n",
              "      <td>0</td>\n",
              "    </tr>\n",
              "    <tr>\n",
              "      <th>4</th>\n",
              "      <td>ham</td>\n",
              "      <td>Nah I don't think he goes to usf, he lives aro...</td>\n",
              "      <td>0</td>\n",
              "    </tr>\n",
              "  </tbody>\n",
              "</table>\n",
              "</div>"
            ],
            "text/plain": [
              "  label                                               Text  label_in_num\n",
              "0   ham  Go until jurong point, crazy.. Available only ...             0\n",
              "1   ham                      Ok lar... Joking wif u oni...             0\n",
              "2  spam  Free entry in 2 a wkly comp to win FA Cup fina...             1\n",
              "3   ham  U dun say so early hor... U c already then say...             0\n",
              "4   ham  Nah I don't think he goes to usf, he lives aro...             0"
            ]
          },
          "execution_count": 4,
          "metadata": {},
          "output_type": "execute_result"
        }
      ],
      "source": [
        "df = df.drop(['Unnamed: 2', 'Unnamed: 3', 'Unnamed: 4'], axis=1)\n",
        "df = df.rename(columns={'v1':'label', 'v2':'Text'})\n",
        "df['label_in_num'] = df['label'].map({'ham':0,'spam':1})\n",
        "df.head()"
      ]
    },
    {
      "cell_type": "code",
      "execution_count": null,
      "metadata": {
        "colab": {
          "base_uri": "https://localhost:8080/",
          "height": 297
        },
        "id": "oOBTGXHAOoLM",
        "outputId": "d306a3c8-62a4-437e-cc4f-0522e27ac81e"
      },
      "outputs": [
        {
          "data": {
            "text/plain": [
              "<AxesSubplot:xlabel='label', ylabel='count'>"
            ]
          },
          "execution_count": 5,
          "metadata": {},
          "output_type": "execute_result"
        },
        {
          "data": {
            "image/png": "[encoded data removed]",
            "text/plain": [
              "<Figure size 432x288 with 1 Axes>"
            ]
          },
          "metadata": {
            "needs_background": "light"
          },
          "output_type": "display_data"
        }
      ],
      "source": [
        "sns.countplot(x=df['label']) # countplot for label"
      ]
    },
    {
      "cell_type": "code",
      "execution_count": null,
      "metadata": {
        "colab": {
          "base_uri": "https://localhost:8080/"
        },
        "id": "3xujGlJiOrEo",
        "outputId": "66dd085c-4f71-491b-a851-2c2b24e4f364"
      },
      "outputs": [
        {
          "data": {
            "text/plain": [
              "ham     4825\n",
              "spam     747\n",
              "Name: label, dtype: int64"
            ]
          },
          "execution_count": 6,
          "metadata": {},
          "output_type": "execute_result"
        }
      ],
      "source": [
        "df['label'].value_counts()"
      ]
    },
    {
      "cell_type": "markdown",
      "metadata": {
        "id": "Xp2JuMo8Owt7"
      },
      "source": [
        "**Since the data points with ham label are 6.5 times more than points with spam labels, this makes the data an imbalanced dataset.**"
      ]
    },
    {
      "cell_type": "code",
      "execution_count": null,
      "metadata": {
        "colab": {
          "base_uri": "https://localhost:8080/",
          "height": 296
        },
        "id": "W6Vb1jg9OrVl",
        "outputId": "b2d8ee2d-3004-4b90-e21a-2c06807008bd"
      },
      "outputs": [
        {
          "data": {
            "text/plain": [
              "Text(0.5, 0, 'Text length')"
            ]
          },
          "execution_count": 7,
          "metadata": {},
          "output_type": "execute_result"
        },
        {
          "data": {
            "image/png": "[encoded data removed]",
            "text/plain": [
              "<Figure size 432x288 with 1 Axes>"
            ]
          },
          "metadata": {
            "needs_background": "light"
          },
          "output_type": "display_data"
        }
      ],
      "source": [
        "sns.countplot(x=[len(df.loc[i]['Text']) for i in range(len(df))])\n",
        "plt.xlabel('Text length')"
      ]
    },
    {
      "cell_type": "markdown",
      "metadata": {
        "id": "z8Qs2DyrPINn"
      },
      "source": [
        "**Since we want to find no of words in the dataset and mean of word count in every to process for model building we will perform the below code.**"
      ]
    },
    {
      "cell_type": "code",
      "execution_count": null,
      "metadata": {
        "colab": {
          "base_uri": "https://localhost:8080/"
        },
        "id": "OEZXZheKPC7a",
        "outputId": "51eec437-fce1-41e7-ba95-066fa593c46f"
      },
      "outputs": [
        {
          "name": "stdout",
          "output_type": "stream",
          "text": [
            "we have 86335 words in our Dataframe\n",
            "the average word count in every scentence is 15\n"
          ]
        },
        {
          "data": {
            "text/plain": [
              "([20, 6, 28, 11, 13], 86335, 15)"
            ]
          },
          "execution_count": 8,
          "metadata": {},
          "output_type": "execute_result"
        }
      ],
      "source": [
        "text_words_lengths = [len(df.loc[i]['Text'].split()) for i in range(0, len(df))]\n",
        "total_length = np.sum(text_words_lengths)\n",
        "text_words_mean = int(np.mean(text_words_lengths))\n",
        "print('we have ' + str(total_length) + ' words in our Dataframe')\n",
        "print('the average word count in every scentence is ' + str(text_words_mean))\n",
        "text_words_lengths[:5], total_length, text_words_mean"
      ]
    },
    {
      "cell_type": "markdown",
      "metadata": {
        "id": "GcYUCiTsPo5F"
      },
      "source": [
        "**Train & Test Split**"
      ]
    },
    {
      "cell_type": "code",
      "execution_count": null,
      "metadata": {
        "colab": {
          "base_uri": "https://localhost:8080/"
        },
        "id": "jTnDQ9dNPs64",
        "outputId": "cf9a8f38-9183-429e-ba3f-4489aaa81f39"
      },
      "outputs": [
        {
          "data": {
            "text/plain": [
              "(4457,\n",
              " 1115,\n",
              " array(['Kallis wont bat in 2nd innings.',\n",
              "        'Ringtone Club: Get the UK singles chart on your mobile each week and choose any top quality ringtone! This message is free of charge.'],\n",
              "       dtype=object),\n",
              " array([0, 1], dtype=int64))"
            ]
          },
          "execution_count": 9,
          "metadata": {},
          "output_type": "execute_result"
        }
      ],
      "source": [
        "from sklearn.model_selection import train_test_split\n",
        "X, y = np.asanyarray(df['Text']), np.asanyarray(df['label_in_num'])\n",
        "X_train, X_test, y_train, y_test = train_test_split(X, y, test_size=0.2, random_state=24)\n",
        "len(X_train), len(X_test), X_train[:2], y_train[:2]"
      ]
    },
    {
      "cell_type": "markdown",
      "metadata": {
        "id": "qoMpTrJzRuK1"
      },
      "source": [
        "**Helper Functions**"
      ]
    },
    {
      "cell_type": "markdown",
      "metadata": {
        "id": "r4GKo-kJTYhi"
      },
      "source": [
        "Text vectorization is the process of converting text into a numerical representation. Example: Bag of words frequency, Binary Term frequency, etc.; A word embedding is a learned representation of text in which words with related meanings have similar representations. Each word is assigned to a single vector, and the vector values are learned like that of a neural network.Now, we’ll create a custom text vectorization layer using TensorFlow."
      ]
    },
    {
      "cell_type": "code",
      "execution_count": null,
      "metadata": {
        "id": "VE7cZ1PWQQWk"
      },
      "outputs": [],
      "source": [
        "MAXTOKENS = total_length #maximum size of the vocabulary which was found earlier\n",
        "OUTPUTLEN = text_words_mean #length to which the sentences should be padded irrespective of the sentence length.\n",
        "text_vec = layers.TextVectorization(\n",
        "    max_tokens=MAXTOKENS,\n",
        "    standardize='lower_and_strip_punctuation',\n",
        "    output_mode='int',\n",
        "    output_sequence_length=OUTPUTLEN\n",
        ")\n",
        "text_vec.adapt(X_train)"
      ]
    },
    {
      "cell_type": "code",
      "execution_count": null,
      "metadata": {
        "id": "SWPjcf69QUm_"
      },
      "outputs": [],
      "source": [
        "#input_dim is the size of vocabulary\n",
        "#output_dim is the dimension of the embedding layer i.e, the size of the vector in which the words will be embedded\n",
        "#input_length is the length of input sequences\n",
        "embedding_layer = layers.Embedding(\n",
        "    input_dim=MAXTOKENS,\n",
        "    output_dim=128,\n",
        "    embeddings_initializer='uniform',\n",
        "    input_length=OUTPUTLEN\n",
        ")"
      ]
    },
    {
      "cell_type": "markdown",
      "metadata": {
        "id": "TgYJlCadRylz"
      },
      "source": [
        "**4. Create Model**"
      ]
    },
    {
      "cell_type": "code",
      "execution_count": null,
      "metadata": {
        "id": "FIc-ydF5P8MP"
      },
      "outputs": [],
      "source": [
        "input_layer = layers.Input(shape=(1,), dtype=tf.string) # Input layer, string type(text)\n",
        "vec_layer = text_vec(input_layer) # text vectorization layer(built previous lines)\n",
        "embedding_layer_model = embedding_layer(vec_layer) # word embedding layer\n",
        "bi_lstm = layers.Bidirectional(layers.LSTM(64, activation='tanh', return_sequences=True))(embedding_layer_model) # Bidirectional-LSTM, 64 units\n",
        "lstm = layers.Bidirectional(layers.LSTM(64))(bi_lstm)\n",
        "flatten = layers.Flatten()(lstm) # Flatten layer for enering in dense layers\n",
        "dropout = layers.Dropout(.1)(flatten) # drop out layer\n",
        "x = layers.Dense(32, activation='relu')(dropout) # Dense layer\n",
        "output_layer = layers.Dense(1, activation='sigmoid')(x) # output layer\n",
        "model_2 = keras.Model(input_layer, output_layer) # final model"
      ]
    },
    {
      "cell_type": "markdown",
      "metadata": {
        "id": "_1aU00tvR4Xs"
      },
      "source": [
        "**5. Add Layers (LSTM, Dense-(Hidden Layers), Output)**"
      ]
    },
    {
      "cell_type": "code",
      "execution_count": null,
      "metadata": {
        "id": "HJMvLQV2R5iZ"
      },
      "outputs": [],
      "source": [
        "# Input layer\n",
        "input_layer = layers.Input(shape=(1,), dtype=tf.string)\n",
        "# Text Vectorizatino layer\n",
        "vec_layer = text_vec(input_layer)\n",
        "# Embedding layer\n",
        "embedding_layer_model = embedding_layer(vec_layer)\n",
        "# Global Average Pooling layer\n",
        "x = layers.GlobalAveragePooling1D()(embedding_layer_model)\n",
        "# Flatten layer for Dense layers\n",
        "x = layers.Flatten()(x)\n",
        "# 32 units dense layer\n",
        "x = layers.Dense(32, activation='relu')(x)\n",
        "# output layer with sigmoid activation function\n",
        "output_layer = layers.Dense(1, activation='sigmoid')(x)\n",
        "# final model\n",
        "model_1 = keras.Model(input_layer, output_layer)"
      ]
    },
    {
      "cell_type": "markdown",
      "metadata": {
        "id": "77CMZgBASExO"
      },
      "source": [
        "**6. Compile the Model, Fit the Model**"
      ]
    },
    {
      "cell_type": "code",
      "execution_count": null,
      "metadata": {
        "id": "jh_X-MYZQhwz"
      },
      "outputs": [],
      "source": [
        "def compile_model(model):\n",
        "    model.compile(optimizer=keras.optimizers.Adam(),\n",
        "                 loss=keras.losses.BinaryCrossentropy(),\n",
        "                 metrics=['accuracy'])    \n",
        "def fit_model(model, epochs, X_train=X_train, y_train=y_train, X_test=X_test, y_test=y_test):\n",
        "    history = model.fit(X_train,\n",
        "              y_train,\n",
        "             epochs=epochs,\n",
        "             validation_data=(X_test, y_test),\n",
        "             validation_steps=int(0.2*len(X_test)))\n",
        "    return history"
      ]
    },
    {
      "cell_type": "code",
      "execution_count": null,
      "metadata": {
        "colab": {
          "base_uri": "https://localhost:8080/"
        },
        "id": "MpydmiH7QcFn",
        "outputId": "3004a48f-4f65-4f25-cccd-9b06241b52f5"
      },
      "outputs": [
        {
          "name": "stdout",
          "output_type": "stream",
          "text": [
            "Epoch 1/5\n",
            "140/140 [==============================] - 34s 166ms/step - loss: 0.1619 - accuracy: 0.9479 - val_loss: 0.0771 - val_accuracy: 0.9767\n",
            "Epoch 2/5\n",
            "140/140 [==============================] - 21s 147ms/step - loss: 0.0294 - accuracy: 0.9917 - val_loss: 0.0807 - val_accuracy: 0.9731\n",
            "Epoch 3/5\n",
            "140/140 [==============================] - 21s 147ms/step - loss: 0.0119 - accuracy: 0.9971 - val_loss: 0.0764 - val_accuracy: 0.9812\n",
            "Epoch 4/5\n",
            "140/140 [==============================] - 20s 146ms/step - loss: 0.0026 - accuracy: 0.9996 - val_loss: 0.1261 - val_accuracy: 0.9695\n",
            "Epoch 5/5\n",
            "140/140 [==============================] - 20s 146ms/step - loss: 0.0017 - accuracy: 0.9993 - val_loss: 0.1096 - val_accuracy: 0.9776\n"
          ]
        }
      ],
      "source": [
        "compile_model(model_2) # compile the model\n",
        "history_2 = fit_model(model_2, epochs=5) # fit the model"
      ]
    },
    {
      "cell_type": "code",
      "execution_count": null,
      "metadata": {
        "id": "DG_fz2NjRBtp"
      },
      "outputs": [],
      "source": [
        "from sklearn.metrics import precision_score, recall_score, f1_score, accuracy_score\n",
        "def evaluate_model(model, X, y):\n",
        "    y_preds = np.round(model.predict(X))\n",
        "    accuracy = accuracy_score(y, y_preds)\n",
        "    precision = precision_score(y, y_preds)\n",
        "    recall = recall_score(y, y_preds)\n",
        "    f1 = f1_score(y, y_preds)\n",
        "    model_results_dict = {'accuracy':accuracy,\n",
        "                         'precision':precision,\n",
        "                         'recall':recall,\n",
        "                         'f1-score':f1}\n",
        "    return model_results_dict"
      ]
    },
    {
      "cell_type": "markdown",
      "metadata": {
        "id": "EmonUxruS9uJ"
      },
      "source": [
        "**7. Saving and testing the model**"
      ]
    },
    {
      "cell_type": "code",
      "execution_count": null,
      "metadata": {
        "id": "EeTYRjqqT6VW",
        "outputId": "7a09a62e-5b85-4a40-8002-8c8e8ec84c5f"
      },
      "outputs": [
        {
          "name": "stderr",
          "output_type": "stream",
          "text": [
            "WARNING:absl:Found untraced functions such as lstm_cell_1_layer_call_fn, lstm_cell_1_layer_call_and_return_conditional_losses, lstm_cell_2_layer_call_fn, lstm_cell_2_layer_call_and_return_conditional_losses, lstm_cell_4_layer_call_fn while saving (showing 5 of 8). These functions will not be directly callable after loading.\n"
          ]
        },
        {
          "name": "stdout",
          "output_type": "stream",
          "text": [
            "INFO:tensorflow:Assets written to: spam\\assets\n"
          ]
        },
        {
          "name": "stderr",
          "output_type": "stream",
          "text": [
            "INFO:tensorflow:Assets written to: spam\\assets\n"
          ]
        }
      ],
      "source": [
        "model_2.save('spam')"
      ]
    },
    {
      "cell_type": "code",
      "execution_count": null,
      "metadata": {
        "colab": {
          "base_uri": "https://localhost:8080/"
        },
        "id": "aOTHzyJvRFwR",
        "outputId": "53402988-d8cf-4412-cf46-4de9066cff3d"
      },
      "outputs": [
        {
          "name": "stdout",
          "output_type": "stream",
          "text": [
            "35/35 [==============================] - 3s 13ms/step - loss: 0.1096 - accuracy: 0.9776\n"
          ]
        },
        {
          "data": {
            "text/plain": [
              "[0.10955020040273666, 0.9775784611701965]"
            ]
          },
          "execution_count": 18,
          "metadata": {},
          "output_type": "execute_result"
        }
      ],
      "source": [
        "model_2.evaluate(X_test, y_test)"
      ]
    },
    {
      "cell_type": "code",
      "execution_count": null,
      "metadata": {
        "id": "QWlGHvKxT6VX",
        "outputId": "6e76ebda-6571-4a48-c5a2-6efe8a80b70d"
      },
      "outputs": [
        {
          "name": "stdout",
          "output_type": "stream",
          "text": [
            "35/35 [==============================] - 3s 13ms/step\n",
            "{'accuracy': 0.9775784753363229, 'precision': 0.9047619047619048, 'recall': 0.9236111111111112, 'f1-score': 0.914089347079038}\n"
          ]
        }
      ],
      "source": [
        "print(evaluate_model(model_2,X_test, y_test))"
      ]
    }
  ],
  "metadata": {
    "colab": {
      "provenance": []
    },
    "kernelspec": {
      "display_name": "Python 3",
      "language": "python",
      "name": "python3"
    },
    "language_info": {
      "codemirror_mode": {
        "name": "ipython",
        "version": 3
      },
      "file_extension": ".py",
      "mimetype": "text/x-python",
      "name": "python",
      "nbconvert_exporter": "python",
      "pygments_lexer": "ipython3",
      "version": "3.8.8"
    }
  },
  "nbformat": 4,
  "nbformat_minor": 0
}